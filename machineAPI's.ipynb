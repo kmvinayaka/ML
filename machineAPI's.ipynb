{
 "cells": [
  {
   "cell_type": "code",
   "execution_count": 1,
   "metadata": {},
   "outputs": [
    {
     "name": "stdout",
     "output_type": "stream",
     "text": [
      "The result of senstiment is:{\"sentiment\":{\"negative\":0.013,\"neutral\":0.891,\"positive\":0.096}}\n"
     ]
    }
   ],
   "source": [
    "#Sentiment \n",
    "# importing the requests library \n",
    "import requests \n",
    "\n",
    "# defining the api-endpoint \n",
    "API_ENDPOINT = \"http://apis.paralleldots.com/v4/sentiment\"\n",
    "\n",
    "# your API key here \n",
    "API_KEY = \"miX6NJrqKGbIg4WReHNdV8i8QEULlV53V4hklTsLLDM\"\n",
    "\n",
    "# data to be sent to api \n",
    "data = {'api_key':API_KEY, \n",
    "\t\t'text':[\"Come on,lets play together\"]\n",
    "\t\t} \n",
    "\n",
    "# sending post request and saving response as response object \n",
    "r = requests.post(url = API_ENDPOINT, data = data) \n",
    "\n",
    "# extracting response text \n",
    "result = r.text \n",
    "print(\"The result of senstiment is:%s\"%result) \n"
   ]
  },
  {
   "cell_type": "code",
   "execution_count": null,
   "metadata": {},
   "outputs": [],
   "source": [
    "#Similarity \n",
    "# importing the requests library \n",
    "import requests \n",
    "\n",
    "# defining the api-endpoint \n",
    "API_ENDPOINT = \"http://apis.paralleldots.com/v4/similarity\"\n",
    "\n",
    "# your API key here \n",
    "API_KEY = \"miX6NJrqKGbIg4WReHNdV8i8QEULlV53V4hklTsLLDM\"\n",
    "\n",
    "# data to be sent to api \n",
    "data = {'api_key':API_KEY, \n",
    "\t\t'text_1':\"There is a tipping point’: UN warns climate change goals laid out in Paris accord are almost out of reach\",\n",
    "        'text_2':\"Global warming set to exceed Paris agreement’s 1.5C limit by 2040s, according to draft UN report\"\n",
    "\t\t} \n",
    "\n",
    "# sending post request and saving response as response object \n",
    "r = requests.post(url = API_ENDPOINT, data = data) \n",
    "\n",
    "# extracting response text \n",
    "result = r.text \n",
    "print(\"The result of similarity is:%s\"%result) \n"
   ]
  },
  {
   "cell_type": "code",
   "execution_count": null,
   "metadata": {},
   "outputs": [],
   "source": [
    "#named entity recognition \n",
    "# importing the requests library \n",
    "import requests\n",
    "\n",
    "\n",
    "# defining the api-endpoint \n",
    "API_ENDPOINT = \"http://apis.paralleldots.com/v4/ner\"\n",
    "\n",
    "# your API key here \n",
    "API_KEY = \"miX6NJrqKGbIg4WReHNdV8i8QEULlV53V4hklTsLLDM\"\n",
    "\n",
    "# data to be sent to api \n",
    "data = {'api_key':API_KEY, \n",
    "\t\t'text':'Apple was founded by Steve Jobs',\n",
    "        'lang_code':'en'\n",
    "\t\t} \n",
    "\n",
    "# sending post request and saving response as response object \n",
    "r = requests.post(url = API_ENDPOINT, data = data) \n",
    "\n",
    "# extracting response text \n",
    "result = r.text \n",
    "print(\"The result of named entity recognition is:%s\"%result) "
   ]
  },
  {
   "cell_type": "code",
   "execution_count": null,
   "metadata": {},
   "outputs": [],
   "source": [
    "#keyword recognition \n",
    "# importing the requests library \n",
    "import requests\n",
    "\n",
    "\n",
    "# defining the api-endpoint \n",
    "API_ENDPOINT = \"http://apis.paralleldots.com/v4/keywords\"\n",
    "\n",
    "# your API key here \n",
    "API_KEY = \"miX6NJrqKGbIg4WReHNdV8i8QEULlV53V4hklTsLLDM\"\n",
    "\n",
    "# data to be sent to api \n",
    "data = {'api_key':API_KEY, \n",
    "\t\t'text':\"For the Yankees, it took a stunning comeback after being down 2-0 to the\\\n",
    "        Indians in the American League Division Series. For the Astros, it took beating Chris Sale to top the Red Sox.\",\n",
    "        'lang_code':'en'\n",
    "\t\t} \n",
    "\n",
    "# sending post request and saving response as response object \n",
    "r = requests.post(url = API_ENDPOINT, data = data) \n",
    "\n",
    "# extracting response text \n",
    "result = r.text \n",
    "print(\"The result of keywords is:%s\"%result) "
   ]
  },
  {
   "cell_type": "code",
   "execution_count": null,
   "metadata": {},
   "outputs": [],
   "source": [
    "#emotion detection  \n",
    "# importing the requests library \n",
    "import requests\n",
    "\n",
    "\n",
    "# defining the api-endpoint \n",
    "API_ENDPOINT = \"http://apis.paralleldots.com/v4/emotion\"\n",
    "\n",
    "# your API key here \n",
    "API_KEY = \"miX6NJrqKGbIg4WReHNdV8i8QEULlV53V4hklTsLLDM\"\n",
    "\n",
    "# data to be sent to api \n",
    "data = {'api_key':API_KEY, \n",
    "\t\t'text':\"I am trying to imagine you with a personality\",\n",
    "        \n",
    "\t\t} \n",
    "\n",
    "# sending post request and saving response as response object \n",
    "r = requests.post(url = API_ENDPOINT, data = data) \n",
    "\n",
    "# extracting response text \n",
    "result = r.text \n",
    "print(\"The result of excitation is:%s\",result) "
   ]
  },
  {
   "cell_type": "code",
   "execution_count": null,
   "metadata": {},
   "outputs": [],
   "source": [
    "#sarcasm detection  \n",
    "# importing the requests library \n",
    "import requests\n",
    "\n",
    "\n",
    "# defining the api-endpoint \n",
    "API_ENDPOINT = \"http://apis.paralleldots.com/v4/sarcasm\"\n",
    "\n",
    "# your API key here \n",
    "API_KEY = \"miX6NJrqKGbIg4WReHNdV8i8QEULlV53V4hklTsLLDM\"\n",
    "\n",
    "# data to be sent to api \n",
    "data = {'api_key':API_KEY, \n",
    "\t\t'text':\"I am trying to imagine you with a personality\",\n",
    "        \n",
    "\t\t} \n",
    "\n",
    "# sending post request and saving response as response object \n",
    "r = requests.post(url = API_ENDPOINT, data = data) \n",
    "\n",
    "# extracting response text \n",
    "result = r.text \n",
    "print(\"The result of sarcasrtic is:%s\",result) "
   ]
  },
  {
   "cell_type": "code",
   "execution_count": null,
   "metadata": {},
   "outputs": [],
   "source": [
    "#intent detection  \n",
    "# importing the requests library \n",
    "import requests\n",
    "\n",
    "\n",
    "# defining the api-endpoint \n",
    "API_ENDPOINT = \"http://apis.paralleldots.com/v4/intent\"\n",
    "\n",
    "# your API key here \n",
    "API_KEY = \"miX6NJrqKGbIg4WReHNdV8i8QEULlV53V4hklTsLLDM\"\n",
    "\n",
    "# data to be sent to api \n",
    "data = {'api_key':API_KEY, \n",
    "\t\t'text':' do I cancel my ticket from the app'\n",
    "        \n",
    "\t\t} \n",
    "\n",
    "# sending post request and saving response as response object \n",
    "r = requests.post(url = API_ENDPOINT, data = data) \n",
    "\n",
    "# extracting response text \n",
    "result = r.text \n",
    "print(\"The result of intent is:%s\",result) "
   ]
  },
  {
   "cell_type": "code",
   "execution_count": null,
   "metadata": {},
   "outputs": [],
   "source": [
    "#abuse detection  \n",
    "# importing the requests library \n",
    "import requests\n",
    "\n",
    "\n",
    "# defining the api-endpoint \n",
    "API_ENDPOINT = \"http://apis.paralleldots.com/v4/abuse\"\n",
    "\n",
    "# your API key here \n",
    "API_KEY = \"miX6NJrqKGbIg4WReHNdV8i8QEULlV53V4hklTsLLDM\"\n",
    "\n",
    "# data to be sent to api \n",
    "data = {'api_key':API_KEY, \n",
    "\t\t'text':' you idiot '\n",
    "        \n",
    "\t\t} \n",
    "\n",
    "# sending post request and saving response as response object \n",
    "r = requests.post(url = API_ENDPOINT, data = data) \n",
    "\n",
    "# extracting response text \n",
    "result = r.text \n",
    "print(\"The result of abuse  is:%s\",result) "
   ]
  },
  {
   "cell_type": "markdown",
   "metadata": {},
   "source": [
    "# https://deepai.org/"
   ]
  },
  {
   "cell_type": "code",
   "execution_count": null,
   "metadata": {},
   "outputs": [],
   "source": [
    "import requests\n",
    "r = requests.post(\n",
    "    \"http://api.deepai.org/api/summarization\",\n",
    "    files={\n",
    "        'text': open('3gables.txt', 'rb'),\n",
    "    },\n",
    "    headers={'api-key': 'd4452449-07cc-419b-9a8e-e3a4033b1c6b'}\n",
    ")\n",
    "print(r.json())\n"
   ]
  },
  {
   "cell_type": "code",
   "execution_count": null,
   "metadata": {},
   "outputs": [],
   "source": [
    "# face recogniton \n",
    "import requests\n",
    "r = requests.post(\"http://api.deepai.org/api/facial-recognition\",files={'image':open('we.jpg', 'rb')},headers={'api-key': 'd4452449-07cc-419b-9a8e-e3a4033b1c6b'})\n",
    "print(r.text)\n"
   ]
  },
  {
   "cell_type": "code",
   "execution_count": null,
   "metadata": {},
   "outputs": [],
   "source": [
    "# celebrety \n",
    "import requests\n",
    "r = requests.post(\"http://api.deepai.org/api/celebrity-recognition\",files={'image':open('we.jpg', 'rb')},headers={'api-key': 'd4452449-07cc-419b-9a8e-e3a4033b1c6b'})\n",
    "print(r.text)"
   ]
  },
  {
   "cell_type": "code",
   "execution_count": null,
   "metadata": {},
   "outputs": [],
   "source": [
    "# emotion detection \n",
    "import requests\n",
    "r = requests.post(\n",
    "    \"http://api.deepai.org/api/facial-expression-recognition\",\n",
    "    files={\n",
    "        'image': open('we.jpg', 'rb'),\n",
    "    },\n",
    "    headers={'api-key': 'd4452449-07cc-419b-9a8e-e3a4033b1c6b'}\n",
    ")\n",
    "print(r.json())"
   ]
  },
  {
   "cell_type": "code",
   "execution_count": null,
   "metadata": {},
   "outputs": [],
   "source": [
    "# demographic detection \n",
    "import requests\n",
    "r = requests.post(\n",
    "    \"http://api.deepai.org/api/demographic-recognition\",\n",
    "    files={\n",
    "        'image': open('we.jpg', 'rb'),\n",
    "    },\n",
    "    headers={'api-key': 'd4452449-07cc-419b-9a8e-e3a4033b1c6b'}\n",
    ")\n",
    "print(r.json())"
   ]
  },
  {
   "cell_type": "code",
   "execution_count": null,
   "metadata": {},
   "outputs": [],
   "source": [
    "import requests\n",
    "r = requests.post(\n",
    "    \"http://api.deepai.org/api/places\",\n",
    "    files={\n",
    "        'image': open('scene.jpg', 'rb'),\n",
    "    },\n",
    "    headers={'api-key': 'd4452449-07cc-419b-9a8e-e3a4033b1c6b'}\n",
    ")\n",
    "print(r.json())"
   ]
  },
  {
   "cell_type": "code",
   "execution_count": null,
   "metadata": {},
   "outputs": [],
   "source": [
    "# similarity\n",
    "import requests\n",
    "r = requests.post(\n",
    "    \"http://api.deepai.org/api/image-similarity\",\n",
    "    files={\n",
    "        'image1': open('we.jpg', 'rb'),\n",
    "        'image2': open('we.jpg', 'rb'),\n",
    "    },\n",
    "    headers={'api-key': 'd4452449-07cc-419b-9a8e-e3a4033b1c6b'}\n",
    ")\n",
    "print(r.json())"
   ]
  },
  {
   "cell_type": "code",
   "execution_count": null,
   "metadata": {},
   "outputs": [],
   "source": [
    "import requests\n",
    "r = requests.post(\n",
    "    \"http://api.deepai.org/api/nsfw-detector\",\n",
    "    files={\n",
    "        'image': open('c2.jpg', 'rb'),\n",
    "    },\n",
    "    headers={'api-key': 'd4452449-07cc-419b-9a8e-e3a4033b1c6b'}\n",
    ")\n",
    "print(r.json())"
   ]
  },
  {
   "cell_type": "code",
   "execution_count": null,
   "metadata": {},
   "outputs": [],
   "source": [
    "import requests\n",
    "r = requests.post(\n",
    "    \"http://api.deepai.org/api/densecap\",\n",
    "    files={\n",
    "        'image': open('c2.jpg', 'rb'),\n",
    "    },\n",
    "    headers={'api-key': 'd4452449-07cc-419b-9a8e-e3a4033b1c6b'}\n",
    ")\n",
    "print(r.json())"
   ]
  },
  {
   "cell_type": "markdown",
   "metadata": {},
   "source": [
    "# https://cloud.openalpr.com/cloudapi/"
   ]
  },
  {
   "cell_type": "code",
   "execution_count": 14,
   "metadata": {},
   "outputs": [
    {
     "name": "stdout",
     "output_type": "stream",
     "text": [
      "b'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'\n"
     ]
    },
    {
     "name": "stdout",
     "output_type": "stream",
     "text": [
      "<Response [503]>\n"
     ]
    }
   ],
   "source": [
    "#!/usr/bin/python\n",
    "\n",
    "import requests\n",
    "import base64\n",
    "import json\n",
    "\n",
    "# Sample image file is available at http://plates.openalpr.com/ea7the.jpg\n",
    "IMAGE_PATH = 'carr.jpg'\n",
    "SECRET_KEY = 'sk_3810a8f0750b2fa316d8af0e'\n",
    "\n",
    "with open(IMAGE_PATH, 'rb') as image_file:\n",
    "    img_base64 = base64.b64encode(image_file.read())\n",
    "    print(img_base64)\n",
    "\n",
    "url = 'http://api.openalpr.com/v2/recognize_bytes?recognize_vehicle=1&country=us&secret_key=%s' % (SECRET_KEY)\n",
    "r = requests.post(url, data = img_base64)\n",
    "print(r)\n",
    "#print(json.dumps(r.json(), indent=2))"
   ]
  },
  {
   "cell_type": "code",
   "execution_count": null,
   "metadata": {},
   "outputs": [],
   "source": []
  }
 ],
 "metadata": {
  "kernelspec": {
   "display_name": "Python 3",
   "language": "python",
   "name": "python3"
  },
  "language_info": {
   "codemirror_mode": {
    "name": "ipython",
    "version": 3
   },
   "file_extension": ".py",
   "mimetype": "text/x-python",
   "name": "python",
   "nbconvert_exporter": "python",
   "pygments_lexer": "ipython3",
   "version": "3.6.5"
  }
 },
 "nbformat": 4,
 "nbformat_minor": 2
}
